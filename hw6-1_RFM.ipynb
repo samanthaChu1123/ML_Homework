{
 "cells": [
  {
   "cell_type": "markdown",
   "metadata": {},
   "source": [
    "# 6-1 RFM"
   ]
  },
  {
   "cell_type": "code",
   "execution_count": 1,
   "metadata": {
    "executionInfo": {
     "elapsed": 999,
     "status": "ok",
     "timestamp": 1618066571941,
     "user": {
      "displayName": "唐思琪",
      "photoUrl": "",
      "userId": "09875980386120554692"
     },
     "user_tz": -480
    },
    "id": "6eYJPaotoRxg"
   },
   "outputs": [],
   "source": [
    "# 載入常用套件\n",
    "import numpy as np\n",
    "import pandas as pd\n",
    "import matplotlib.pyplot as plt\n",
    "import seaborn as sns\n",
    "\n",
    "def warn(*args, **kwargs):\n",
    "    pass\n",
    "import warnings\n",
    "warnings.warn = warn"
   ]
  },
  {
   "cell_type": "code",
   "execution_count": 2,
   "metadata": {},
   "outputs": [
    {
     "data": {
      "text/html": [
       "<div>\n",
       "<style scoped>\n",
       "    .dataframe tbody tr th:only-of-type {\n",
       "        vertical-align: middle;\n",
       "    }\n",
       "\n",
       "    .dataframe tbody tr th {\n",
       "        vertical-align: top;\n",
       "    }\n",
       "\n",
       "    .dataframe thead th {\n",
       "        text-align: right;\n",
       "    }\n",
       "</style>\n",
       "<table border=\"1\" class=\"dataframe\">\n",
       "  <thead>\n",
       "    <tr style=\"text-align: right;\">\n",
       "      <th></th>\n",
       "      <th>Unnamed: 0</th>\n",
       "      <th>Date</th>\n",
       "      <th>Customer_ID</th>\n",
       "      <th>Transaction_ID</th>\n",
       "      <th>SKU_Category</th>\n",
       "      <th>SKU</th>\n",
       "      <th>Quantity</th>\n",
       "      <th>Sales_Amount</th>\n",
       "    </tr>\n",
       "  </thead>\n",
       "  <tbody>\n",
       "    <tr>\n",
       "      <th>131701</th>\n",
       "      <td>131702</td>\n",
       "      <td>04/07/2016</td>\n",
       "      <td>20203</td>\n",
       "      <td>32900</td>\n",
       "      <td>IEV</td>\n",
       "      <td>FO112</td>\n",
       "      <td>3.0</td>\n",
       "      <td>6.46</td>\n",
       "    </tr>\n",
       "    <tr>\n",
       "      <th>131702</th>\n",
       "      <td>131703</td>\n",
       "      <td>04/07/2016</td>\n",
       "      <td>20203</td>\n",
       "      <td>32900</td>\n",
       "      <td>N8U</td>\n",
       "      <td>I36F2</td>\n",
       "      <td>1.0</td>\n",
       "      <td>4.50</td>\n",
       "    </tr>\n",
       "    <tr>\n",
       "      <th>131703</th>\n",
       "      <td>131704</td>\n",
       "      <td>04/07/2016</td>\n",
       "      <td>20203</td>\n",
       "      <td>32900</td>\n",
       "      <td>U5F</td>\n",
       "      <td>4X8P4</td>\n",
       "      <td>1.0</td>\n",
       "      <td>5.19</td>\n",
       "    </tr>\n",
       "    <tr>\n",
       "      <th>131704</th>\n",
       "      <td>131705</td>\n",
       "      <td>04/07/2016</td>\n",
       "      <td>20203</td>\n",
       "      <td>32900</td>\n",
       "      <td>0H2</td>\n",
       "      <td>ZVTO4</td>\n",
       "      <td>1.0</td>\n",
       "      <td>4.57</td>\n",
       "    </tr>\n",
       "    <tr>\n",
       "      <th>131705</th>\n",
       "      <td>131706</td>\n",
       "      <td>04/07/2016</td>\n",
       "      <td>20203</td>\n",
       "      <td>32900</td>\n",
       "      <td>Q4N</td>\n",
       "      <td>QM9BP</td>\n",
       "      <td>1.0</td>\n",
       "      <td>13.68</td>\n",
       "    </tr>\n",
       "  </tbody>\n",
       "</table>\n",
       "</div>"
      ],
      "text/plain": [
       "        Unnamed: 0        Date  Customer_ID  Transaction_ID SKU_Category  \\\n",
       "131701      131702  04/07/2016        20203           32900          IEV   \n",
       "131702      131703  04/07/2016        20203           32900          N8U   \n",
       "131703      131704  04/07/2016        20203           32900          U5F   \n",
       "131704      131705  04/07/2016        20203           32900          0H2   \n",
       "131705      131706  04/07/2016        20203           32900          Q4N   \n",
       "\n",
       "          SKU  Quantity  Sales_Amount  \n",
       "131701  FO112       3.0          6.46  \n",
       "131702  I36F2       1.0          4.50  \n",
       "131703  4X8P4       1.0          5.19  \n",
       "131704  ZVTO4       1.0          4.57  \n",
       "131705  QM9BP       1.0         13.68  "
      ]
     },
     "execution_count": 2,
     "metadata": {},
     "output_type": "execute_result"
    }
   ],
   "source": [
    "# 載入2016年整年的銷售資料\n",
    "scan = pd.read_csv('hw_data/hw6/scanner_data.csv')\n",
    "scan.tail()"
   ]
  },
  {
   "cell_type": "code",
   "execution_count": 3,
   "metadata": {},
   "outputs": [
    {
     "name": "stdout",
     "output_type": "stream",
     "text": [
      "<class 'pandas.core.frame.DataFrame'>\n",
      "RangeIndex: 131706 entries, 0 to 131705\n",
      "Data columns (total 8 columns):\n",
      " #   Column          Non-Null Count   Dtype         \n",
      "---  ------          --------------   -----         \n",
      " 0   Unnamed: 0      131706 non-null  int64         \n",
      " 1   Date            131706 non-null  datetime64[ns]\n",
      " 2   Customer_ID     131706 non-null  int64         \n",
      " 3   Transaction_ID  131706 non-null  int64         \n",
      " 4   SKU_Category    131706 non-null  object        \n",
      " 5   SKU             131706 non-null  object        \n",
      " 6   Quantity        131706 non-null  float64       \n",
      " 7   Sales_Amount    131706 non-null  float64       \n",
      "dtypes: datetime64[ns](1), float64(2), int64(3), object(2)\n",
      "memory usage: 8.0+ MB\n"
     ]
    }
   ],
   "source": [
    "# 轉換日期\n",
    "scan['Date'] = pd.to_datetime(scan['Date'],format= '%d/%m/%Y')\n",
    "scan.info()"
   ]
  },
  {
   "cell_type": "code",
   "execution_count": 4,
   "metadata": {},
   "outputs": [
    {
     "data": {
      "text/html": [
       "<div>\n",
       "<style scoped>\n",
       "    .dataframe tbody tr th:only-of-type {\n",
       "        vertical-align: middle;\n",
       "    }\n",
       "\n",
       "    .dataframe tbody tr th {\n",
       "        vertical-align: top;\n",
       "    }\n",
       "\n",
       "    .dataframe thead th {\n",
       "        text-align: right;\n",
       "    }\n",
       "</style>\n",
       "<table border=\"1\" class=\"dataframe\">\n",
       "  <thead>\n",
       "    <tr style=\"text-align: right;\">\n",
       "      <th></th>\n",
       "      <th>Unnamed: 0</th>\n",
       "      <th>Date</th>\n",
       "      <th>Customer_ID</th>\n",
       "      <th>Transaction_ID</th>\n",
       "      <th>SKU_Category</th>\n",
       "      <th>SKU</th>\n",
       "      <th>Quantity</th>\n",
       "      <th>Sales_Amount</th>\n",
       "    </tr>\n",
       "  </thead>\n",
       "  <tbody>\n",
       "    <tr>\n",
       "      <th>131701</th>\n",
       "      <td>131702</td>\n",
       "      <td>2016-07-04</td>\n",
       "      <td>20203</td>\n",
       "      <td>32900</td>\n",
       "      <td>IEV</td>\n",
       "      <td>FO112</td>\n",
       "      <td>3.0</td>\n",
       "      <td>6.46</td>\n",
       "    </tr>\n",
       "    <tr>\n",
       "      <th>131702</th>\n",
       "      <td>131703</td>\n",
       "      <td>2016-07-04</td>\n",
       "      <td>20203</td>\n",
       "      <td>32900</td>\n",
       "      <td>N8U</td>\n",
       "      <td>I36F2</td>\n",
       "      <td>1.0</td>\n",
       "      <td>4.50</td>\n",
       "    </tr>\n",
       "    <tr>\n",
       "      <th>131703</th>\n",
       "      <td>131704</td>\n",
       "      <td>2016-07-04</td>\n",
       "      <td>20203</td>\n",
       "      <td>32900</td>\n",
       "      <td>U5F</td>\n",
       "      <td>4X8P4</td>\n",
       "      <td>1.0</td>\n",
       "      <td>5.19</td>\n",
       "    </tr>\n",
       "    <tr>\n",
       "      <th>131704</th>\n",
       "      <td>131705</td>\n",
       "      <td>2016-07-04</td>\n",
       "      <td>20203</td>\n",
       "      <td>32900</td>\n",
       "      <td>0H2</td>\n",
       "      <td>ZVTO4</td>\n",
       "      <td>1.0</td>\n",
       "      <td>4.57</td>\n",
       "    </tr>\n",
       "    <tr>\n",
       "      <th>131705</th>\n",
       "      <td>131706</td>\n",
       "      <td>2016-07-04</td>\n",
       "      <td>20203</td>\n",
       "      <td>32900</td>\n",
       "      <td>Q4N</td>\n",
       "      <td>QM9BP</td>\n",
       "      <td>1.0</td>\n",
       "      <td>13.68</td>\n",
       "    </tr>\n",
       "  </tbody>\n",
       "</table>\n",
       "</div>"
      ],
      "text/plain": [
       "        Unnamed: 0       Date  Customer_ID  Transaction_ID SKU_Category  \\\n",
       "131701      131702 2016-07-04        20203           32900          IEV   \n",
       "131702      131703 2016-07-04        20203           32900          N8U   \n",
       "131703      131704 2016-07-04        20203           32900          U5F   \n",
       "131704      131705 2016-07-04        20203           32900          0H2   \n",
       "131705      131706 2016-07-04        20203           32900          Q4N   \n",
       "\n",
       "          SKU  Quantity  Sales_Amount  \n",
       "131701  FO112       3.0          6.46  \n",
       "131702  I36F2       1.0          4.50  \n",
       "131703  4X8P4       1.0          5.19  \n",
       "131704  ZVTO4       1.0          4.57  \n",
       "131705  QM9BP       1.0         13.68  "
      ]
     },
     "execution_count": 4,
     "metadata": {},
     "output_type": "execute_result"
    }
   ],
   "source": [
    "scan.tail()"
   ]
  },
  {
   "cell_type": "code",
   "execution_count": 5,
   "metadata": {},
   "outputs": [
    {
     "name": "stdout",
     "output_type": "stream",
     "text": [
      "有 64682 筆交易\n",
      "有 22625 個客戶\n",
      "有 187 個商品種類\n",
      "有 5242 種商品\n"
     ]
    }
   ],
   "source": [
    "print(\"有 \" + str(scan['Transaction_ID'].nunique()) + \" 筆交易\")\n",
    "print(\"有 \" + str(scan['Customer_ID'].nunique()) + \" 個客戶\")\n",
    "print(\"有 \" + str(scan['SKU_Category'].nunique()) + \" 個商品種類\")\n",
    "print(\"有 \" + str(scan['SKU'].nunique()) + \" 種商品\")"
   ]
  },
  {
   "cell_type": "code",
   "execution_count": 6,
   "metadata": {},
   "outputs": [
    {
     "name": "stdout",
     "output_type": "stream",
     "text": [
      "0         01\n",
      "1         01\n",
      "2         01\n",
      "3         01\n",
      "4         01\n",
      "          ..\n",
      "131701    07\n",
      "131702    07\n",
      "131703    07\n",
      "131704    07\n",
      "131705    07\n",
      "Name: Date, Length: 131706, dtype: object\n",
      "Index(['12', '05', '09', '10', '04', '11', '03', '06', '02', '01', '07', '08'], dtype='object')\n"
     ]
    }
   ],
   "source": [
    "month = scan['Date'].dt.strftime('%m')\n",
    "print(month)\n",
    "print(month.value_counts().index)"
   ]
  },
  {
   "cell_type": "markdown",
   "metadata": {},
   "source": [
    "#### 找出金額最高的10筆交易"
   ]
  },
  {
   "cell_type": "code",
   "execution_count": 26,
   "metadata": {},
   "outputs": [
    {
     "data": {
      "text/html": [
       "<div>\n",
       "<style scoped>\n",
       "    .dataframe tbody tr th:only-of-type {\n",
       "        vertical-align: middle;\n",
       "    }\n",
       "\n",
       "    .dataframe tbody tr th {\n",
       "        vertical-align: top;\n",
       "    }\n",
       "\n",
       "    .dataframe thead th {\n",
       "        text-align: right;\n",
       "    }\n",
       "</style>\n",
       "<table border=\"1\" class=\"dataframe\">\n",
       "  <thead>\n",
       "    <tr style=\"text-align: right;\">\n",
       "      <th></th>\n",
       "      <th>date</th>\n",
       "      <th>total</th>\n",
       "    </tr>\n",
       "    <tr>\n",
       "      <th>Transaction_ID</th>\n",
       "      <th></th>\n",
       "      <th></th>\n",
       "    </tr>\n",
       "  </thead>\n",
       "  <tbody>\n",
       "    <tr>\n",
       "      <th>54485</th>\n",
       "      <td>2016-11-09</td>\n",
       "      <td>707.73</td>\n",
       "    </tr>\n",
       "    <tr>\n",
       "      <th>38844</th>\n",
       "      <td>2016-08-12</td>\n",
       "      <td>662.42</td>\n",
       "    </tr>\n",
       "    <tr>\n",
       "      <th>63978</th>\n",
       "      <td>2016-12-27</td>\n",
       "      <td>649.06</td>\n",
       "    </tr>\n",
       "    <tr>\n",
       "      <th>16271</th>\n",
       "      <td>2016-04-06</td>\n",
       "      <td>645.59</td>\n",
       "    </tr>\n",
       "    <tr>\n",
       "      <th>5241</th>\n",
       "      <td>2016-02-03</td>\n",
       "      <td>610.43</td>\n",
       "    </tr>\n",
       "    <tr>\n",
       "      <th>32961</th>\n",
       "      <td>2016-07-04</td>\n",
       "      <td>557.82</td>\n",
       "    </tr>\n",
       "    <tr>\n",
       "      <th>50122</th>\n",
       "      <td>2016-10-15</td>\n",
       "      <td>544.79</td>\n",
       "    </tr>\n",
       "    <tr>\n",
       "      <th>2874</th>\n",
       "      <td>2016-01-19</td>\n",
       "      <td>538.88</td>\n",
       "    </tr>\n",
       "    <tr>\n",
       "      <th>9939</th>\n",
       "      <td>2016-03-01</td>\n",
       "      <td>506.50</td>\n",
       "    </tr>\n",
       "    <tr>\n",
       "      <th>1801</th>\n",
       "      <td>2016-01-13</td>\n",
       "      <td>503.55</td>\n",
       "    </tr>\n",
       "  </tbody>\n",
       "</table>\n",
       "</div>"
      ],
      "text/plain": [
       "                     date   total\n",
       "Transaction_ID                   \n",
       "54485          2016-11-09  707.73\n",
       "38844          2016-08-12  662.42\n",
       "63978          2016-12-27  649.06\n",
       "16271          2016-04-06  645.59\n",
       "5241           2016-02-03  610.43\n",
       "32961          2016-07-04  557.82\n",
       "50122          2016-10-15  544.79\n",
       "2874           2016-01-19  538.88\n",
       "9939           2016-03-01  506.50\n",
       "1801           2016-01-13  503.55"
      ]
     },
     "execution_count": 26,
     "metadata": {},
     "output_type": "execute_result"
    }
   ],
   "source": [
    "scan_tran = scan.groupby(by=['Transaction_ID']).agg(   \n",
    "    date = ('Date','mean'),\n",
    "    # 單筆交易消費總金額\n",
    "    total =('Sales_Amount', 'sum'),\n",
    ")\n",
    "scan_tran.sort_values('total', ascending = False).head(10)"
   ]
  },
  {
   "cell_type": "markdown",
   "metadata": {},
   "source": [
    "#### 查看不同月份的交易數量"
   ]
  },
  {
   "cell_type": "code",
   "execution_count": 32,
   "metadata": {},
   "outputs": [
    {
     "data": {
      "image/png": "[encoded data removed]",
      "text/plain": [
       "<Figure size 432x288 with 1 Axes>"
      ]
     },
     "metadata": {
      "needs_background": "light"
     },
     "output_type": "display_data"
    }
   ],
   "source": [
    "import datetime\n",
    "month = scan_tran['date'].dt.strftime('%m')\n",
    "sns.barplot(x=month.value_counts().index, y=month.value_counts())\n",
    "plt.show()"
   ]
  },
  {
   "cell_type": "markdown",
   "metadata": {},
   "source": [
    "- 5月及12月交易筆數最高，單月超過6000筆\n",
    "- 8月及7月最低，介於4000-5000筆之間"
   ]
  },
  {
   "cell_type": "markdown",
   "metadata": {},
   "source": [
    "## 建立RFM dataframe"
   ]
  },
  {
   "cell_type": "code",
   "execution_count": 8,
   "metadata": {},
   "outputs": [
    {
     "data": {
      "text/html": [
       "<div>\n",
       "<style scoped>\n",
       "    .dataframe tbody tr th:only-of-type {\n",
       "        vertical-align: middle;\n",
       "    }\n",
       "\n",
       "    .dataframe tbody tr th {\n",
       "        vertical-align: top;\n",
       "    }\n",
       "\n",
       "    .dataframe thead th {\n",
       "        text-align: right;\n",
       "    }\n",
       "</style>\n",
       "<table border=\"1\" class=\"dataframe\">\n",
       "  <thead>\n",
       "    <tr style=\"text-align: right;\">\n",
       "      <th></th>\n",
       "      <th>recency</th>\n",
       "      <th>frequency</th>\n",
       "      <th>monetary</th>\n",
       "      <th>senior</th>\n",
       "      <th>since</th>\n",
       "      <th>log_monetary</th>\n",
       "    </tr>\n",
       "    <tr>\n",
       "      <th>Customer_ID</th>\n",
       "      <th></th>\n",
       "      <th></th>\n",
       "      <th></th>\n",
       "      <th></th>\n",
       "      <th></th>\n",
       "      <th></th>\n",
       "    </tr>\n",
       "  </thead>\n",
       "  <tbody>\n",
       "    <tr>\n",
       "      <th>1</th>\n",
       "      <td>345</td>\n",
       "      <td>2</td>\n",
       "      <td>8.145000</td>\n",
       "      <td>345</td>\n",
       "      <td>2016-01-22</td>\n",
       "      <td>2.097404</td>\n",
       "    </tr>\n",
       "    <tr>\n",
       "      <th>2</th>\n",
       "      <td>196</td>\n",
       "      <td>2</td>\n",
       "      <td>11.385000</td>\n",
       "      <td>283</td>\n",
       "      <td>2016-03-24</td>\n",
       "      <td>2.432297</td>\n",
       "    </tr>\n",
       "    <tr>\n",
       "      <th>3</th>\n",
       "      <td>365</td>\n",
       "      <td>3</td>\n",
       "      <td>3.640000</td>\n",
       "      <td>365</td>\n",
       "      <td>2016-01-02</td>\n",
       "      <td>1.291984</td>\n",
       "    </tr>\n",
       "    <tr>\n",
       "      <th>4</th>\n",
       "      <td>53</td>\n",
       "      <td>5</td>\n",
       "      <td>6.658000</td>\n",
       "      <td>174</td>\n",
       "      <td>2016-07-11</td>\n",
       "      <td>1.895819</td>\n",
       "    </tr>\n",
       "    <tr>\n",
       "      <th>5</th>\n",
       "      <td>180</td>\n",
       "      <td>5</td>\n",
       "      <td>15.764000</td>\n",
       "      <td>327</td>\n",
       "      <td>2016-02-09</td>\n",
       "      <td>2.757729</td>\n",
       "    </tr>\n",
       "    <tr>\n",
       "      <th>...</th>\n",
       "      <td>...</td>\n",
       "      <td>...</td>\n",
       "      <td>...</td>\n",
       "      <td>...</td>\n",
       "      <td>...</td>\n",
       "      <td>...</td>\n",
       "    </tr>\n",
       "    <tr>\n",
       "      <th>22621</th>\n",
       "      <td>22</td>\n",
       "      <td>2</td>\n",
       "      <td>4.845000</td>\n",
       "      <td>22</td>\n",
       "      <td>2016-12-10</td>\n",
       "      <td>1.577947</td>\n",
       "    </tr>\n",
       "    <tr>\n",
       "      <th>22622</th>\n",
       "      <td>16</td>\n",
       "      <td>1</td>\n",
       "      <td>6.070000</td>\n",
       "      <td>16</td>\n",
       "      <td>2016-12-16</td>\n",
       "      <td>1.803359</td>\n",
       "    </tr>\n",
       "    <tr>\n",
       "      <th>22623</th>\n",
       "      <td>11</td>\n",
       "      <td>2</td>\n",
       "      <td>64.005000</td>\n",
       "      <td>11</td>\n",
       "      <td>2016-12-21</td>\n",
       "      <td>4.158961</td>\n",
       "    </tr>\n",
       "    <tr>\n",
       "      <th>22624</th>\n",
       "      <td>30</td>\n",
       "      <td>2</td>\n",
       "      <td>9.800000</td>\n",
       "      <td>30</td>\n",
       "      <td>2016-12-02</td>\n",
       "      <td>2.282382</td>\n",
       "    </tr>\n",
       "    <tr>\n",
       "      <th>22625</th>\n",
       "      <td>1</td>\n",
       "      <td>9</td>\n",
       "      <td>9.291111</td>\n",
       "      <td>30</td>\n",
       "      <td>2016-12-02</td>\n",
       "      <td>2.229058</td>\n",
       "    </tr>\n",
       "  </tbody>\n",
       "</table>\n",
       "<p>22625 rows × 6 columns</p>\n",
       "</div>"
      ],
      "text/plain": [
       "             recency  frequency   monetary  senior      since  log_monetary\n",
       "Customer_ID                                                                \n",
       "1                345          2   8.145000     345 2016-01-22      2.097404\n",
       "2                196          2  11.385000     283 2016-03-24      2.432297\n",
       "3                365          3   3.640000     365 2016-01-02      1.291984\n",
       "4                 53          5   6.658000     174 2016-07-11      1.895819\n",
       "5                180          5  15.764000     327 2016-02-09      2.757729\n",
       "...              ...        ...        ...     ...        ...           ...\n",
       "22621             22          2   4.845000      22 2016-12-10      1.577947\n",
       "22622             16          1   6.070000      16 2016-12-16      1.803359\n",
       "22623             11          2  64.005000      11 2016-12-21      4.158961\n",
       "22624             30          2   9.800000      30 2016-12-02      2.282382\n",
       "22625              1          9   9.291111      30 2016-12-02      2.229058\n",
       "\n",
       "[22625 rows x 6 columns]"
      ]
     },
     "execution_count": 8,
     "metadata": {},
     "output_type": "execute_result"
    }
   ],
   "source": [
    "# 計算天數\n",
    "scan['days'] = (datetime.datetime.strptime('2017-01-01', '%Y-%m-%d') - scan['Date']).dt.days\n",
    "# 計算RFM\n",
    "rfm = scan.groupby(by=['Customer_ID']).agg(\n",
    "    # 最近一次消費時間距離今天(2016/01/01)的天數\n",
    "    recency=('days', min),\n",
    "    # 購買次數 此id出現幾次\n",
    "    frequency=('Customer_ID', 'size'),\n",
    "    # 平均消費金額\n",
    "    monetary=('Sales_Amount', 'mean'),\n",
    "    # 第一次消費時間距離今天的天數\n",
    "    senior=('days', max),\n",
    "    # 第一次消費日期\n",
    "    since=('Date', min)\n",
    ")\n",
    "rfm['log_monetary'] = np.log(rfm['monetary'])\n",
    "rfm"
   ]
  },
  {
   "cell_type": "code",
   "execution_count": 9,
   "metadata": {},
   "outputs": [
    {
     "data": {
      "text/html": [
       "<div>\n",
       "<style scoped>\n",
       "    .dataframe tbody tr th:only-of-type {\n",
       "        vertical-align: middle;\n",
       "    }\n",
       "\n",
       "    .dataframe tbody tr th {\n",
       "        vertical-align: top;\n",
       "    }\n",
       "\n",
       "    .dataframe thead th {\n",
       "        text-align: right;\n",
       "    }\n",
       "</style>\n",
       "<table border=\"1\" class=\"dataframe\">\n",
       "  <thead>\n",
       "    <tr style=\"text-align: right;\">\n",
       "      <th></th>\n",
       "      <th>recency</th>\n",
       "      <th>frequency</th>\n",
       "      <th>monetary</th>\n",
       "      <th>senior</th>\n",
       "      <th>log_monetary</th>\n",
       "    </tr>\n",
       "  </thead>\n",
       "  <tbody>\n",
       "    <tr>\n",
       "      <th>count</th>\n",
       "      <td>22625.000000</td>\n",
       "      <td>22625.000000</td>\n",
       "      <td>22625.000000</td>\n",
       "      <td>22625.000000</td>\n",
       "      <td>22625.000000</td>\n",
       "    </tr>\n",
       "    <tr>\n",
       "      <th>mean</th>\n",
       "      <td>162.097061</td>\n",
       "      <td>5.821260</td>\n",
       "      <td>11.143580</td>\n",
       "      <td>219.185812</td>\n",
       "      <td>2.131473</td>\n",
       "    </tr>\n",
       "    <tr>\n",
       "      <th>std</th>\n",
       "      <td>115.923611</td>\n",
       "      <td>9.887028</td>\n",
       "      <td>13.168336</td>\n",
       "      <td>104.312877</td>\n",
       "      <td>0.693079</td>\n",
       "    </tr>\n",
       "    <tr>\n",
       "      <th>min</th>\n",
       "      <td>1.000000</td>\n",
       "      <td>1.000000</td>\n",
       "      <td>0.140000</td>\n",
       "      <td>1.000000</td>\n",
       "      <td>-1.966113</td>\n",
       "    </tr>\n",
       "    <tr>\n",
       "      <th>25%</th>\n",
       "      <td>48.000000</td>\n",
       "      <td>1.000000</td>\n",
       "      <td>5.580000</td>\n",
       "      <td>131.000000</td>\n",
       "      <td>1.719189</td>\n",
       "    </tr>\n",
       "    <tr>\n",
       "      <th>50%</th>\n",
       "      <td>150.000000</td>\n",
       "      <td>3.000000</td>\n",
       "      <td>7.980000</td>\n",
       "      <td>239.000000</td>\n",
       "      <td>2.076938</td>\n",
       "    </tr>\n",
       "    <tr>\n",
       "      <th>75%</th>\n",
       "      <td>272.000000</td>\n",
       "      <td>6.000000</td>\n",
       "      <td>12.342500</td>\n",
       "      <td>306.000000</td>\n",
       "      <td>2.513049</td>\n",
       "    </tr>\n",
       "    <tr>\n",
       "      <th>max</th>\n",
       "      <td>365.000000</td>\n",
       "      <td>228.000000</td>\n",
       "      <td>424.630000</td>\n",
       "      <td>365.000000</td>\n",
       "      <td>6.051218</td>\n",
       "    </tr>\n",
       "  </tbody>\n",
       "</table>\n",
       "</div>"
      ],
      "text/plain": [
       "            recency     frequency      monetary        senior  log_monetary\n",
       "count  22625.000000  22625.000000  22625.000000  22625.000000  22625.000000\n",
       "mean     162.097061      5.821260     11.143580    219.185812      2.131473\n",
       "std      115.923611      9.887028     13.168336    104.312877      0.693079\n",
       "min        1.000000      1.000000      0.140000      1.000000     -1.966113\n",
       "25%       48.000000      1.000000      5.580000    131.000000      1.719189\n",
       "50%      150.000000      3.000000      7.980000    239.000000      2.076938\n",
       "75%      272.000000      6.000000     12.342500    306.000000      2.513049\n",
       "max      365.000000    228.000000    424.630000    365.000000      6.051218"
      ]
     },
     "execution_count": 9,
     "metadata": {},
     "output_type": "execute_result"
    }
   ],
   "source": [
    "rfm.describe()"
   ]
  },
  {
   "cell_type": "markdown",
   "metadata": {},
   "source": [
    "### RFM分佈視覺化"
   ]
  },
  {
   "cell_type": "code",
   "execution_count": 10,
   "metadata": {
    "scrolled": false
   },
   "outputs": [
    {
     "data": {
      "image/png": "[encoded data removed]",
      "text/plain": [
       "<Figure size 576x576 with 6 Axes>"
      ]
     },
     "metadata": {
      "needs_background": "light"
     },
     "output_type": "display_data"
    }
   ],
   "source": [
    "rfm.hist(bins=10,figsize=(8,8),grid=False)\n",
    "plt.show()"
   ]
  },
  {
   "cell_type": "markdown",
   "metadata": {},
   "source": [
    "+ recency\n",
    "    + 左比右高，一直有顧客來消費\n",
    "+ frequency\n",
    "    + 2016年顧客多來1~25次，也有少數顧客光顧超過50次\n",
    "+ monetary\n",
    "    + 消費金額多落在100元至1000元之間"
   ]
  },
  {
   "cell_type": "markdown",
   "metadata": {},
   "source": [
    "#### Q: Customer_ID = 428 的 recency, frequency, monetary分別為?"
   ]
  },
  {
   "cell_type": "code",
   "execution_count": 32,
   "metadata": {},
   "outputs": [
    {
     "data": {
      "text/plain": [
       "recency       363\n",
       "frequency       1\n",
       "monetary     4.91\n",
       "Name: 428, dtype: object"
      ]
     },
     "execution_count": 32,
     "metadata": {},
     "output_type": "execute_result"
    }
   ],
   "source": [
    "rfm.loc[428,['recency','frequency','monetary']]"
   ]
  },
  {
   "cell_type": "markdown",
   "metadata": {},
   "source": [
    "#### Q: 若使用lifetimes套件，Customer_ID = 428 的  frequency, recency, T分別為？\n",
    "- lifetimes與原先RFM差異\n",
    "    - R: 顧客最後一次消費與第一次消費之間的天數差\n",
    "    - F: 先將按「時間段」分組，再依據顧客ID計算次數"
   ]
  },
  {
   "cell_type": "code",
   "execution_count": 33,
   "metadata": {},
   "outputs": [
    {
     "name": "stdout",
     "output_type": "stream",
     "text": [
      "Collecting lifetimes\n",
      "  Downloading Lifetimes-0.11.3-py3-none-any.whl (584 kB)\n",
      "Requirement already satisfied: numpy>=1.10.0 in c:\\users\\rebca\\anaconda3\\lib\\site-packages (from lifetimes) (1.20.3)\n",
      "Collecting autograd>=1.2.0\n",
      "  Downloading autograd-1.3.tar.gz (38 kB)\n",
      "Collecting dill>=0.2.6\n",
      "  Downloading dill-0.3.4-py2.py3-none-any.whl (86 kB)\n",
      "Requirement already satisfied: pandas>=0.24.0 in c:\\users\\rebca\\anaconda3\\lib\\site-packages (from lifetimes) (1.3.4)\n",
      "Requirement already satisfied: scipy>=1.0.0 in c:\\users\\rebca\\anaconda3\\lib\\site-packages (from lifetimes) (1.7.1)\n",
      "Requirement already satisfied: future>=0.15.2 in c:\\users\\rebca\\anaconda3\\lib\\site-packages (from autograd>=1.2.0->lifetimes) (0.18.2)\n",
      "Requirement already satisfied: python-dateutil>=2.7.3 in c:\\users\\rebca\\anaconda3\\lib\\site-packages (from pandas>=0.24.0->lifetimes) (2.8.2)\n",
      "Requirement already satisfied: pytz>=2017.3 in c:\\users\\rebca\\anaconda3\\lib\\site-packages (from pandas>=0.24.0->lifetimes) (2021.3)\n",
      "Requirement already satisfied: six>=1.5 in c:\\users\\rebca\\anaconda3\\lib\\site-packages (from python-dateutil>=2.7.3->pandas>=0.24.0->lifetimes) (1.16.0)\n",
      "Building wheels for collected packages: autograd\n",
      "  Building wheel for autograd (setup.py): started\n",
      "  Building wheel for autograd (setup.py): finished with status 'done'\n",
      "  Created wheel for autograd: filename=autograd-1.3-py3-none-any.whl size=47989 sha256=14f8069616c06eb2574c82ef58ce15d984defbb230c7c6dc49415a4616cf2d55\n",
      "  Stored in directory: c:\\users\\rebca\\appdata\\local\\pip\\cache\\wheels\\b6\\86\\a9\\2c2d40e3c7d837ca251d7cb66f06a283c8679fa17421e8ddeb\n",
      "Successfully built autograd\n",
      "Installing collected packages: dill, autograd, lifetimes\n",
      "Successfully installed autograd-1.3 dill-0.3.4 lifetimes-0.11.3\n"
     ]
    }
   ],
   "source": [
    "# 安裝lifetimes套件\n",
    "# !pip install lifetimes"
   ]
  },
  {
   "cell_type": "code",
   "execution_count": 34,
   "metadata": {},
   "outputs": [
    {
     "data": {
      "text/html": [
       "<div>\n",
       "<style scoped>\n",
       "    .dataframe tbody tr th:only-of-type {\n",
       "        vertical-align: middle;\n",
       "    }\n",
       "\n",
       "    .dataframe tbody tr th {\n",
       "        vertical-align: top;\n",
       "    }\n",
       "\n",
       "    .dataframe thead th {\n",
       "        text-align: right;\n",
       "    }\n",
       "</style>\n",
       "<table border=\"1\" class=\"dataframe\">\n",
       "  <thead>\n",
       "    <tr style=\"text-align: right;\">\n",
       "      <th></th>\n",
       "      <th>frequency</th>\n",
       "      <th>recency</th>\n",
       "      <th>T</th>\n",
       "    </tr>\n",
       "    <tr>\n",
       "      <th>Customer_ID</th>\n",
       "      <th></th>\n",
       "      <th></th>\n",
       "      <th></th>\n",
       "    </tr>\n",
       "  </thead>\n",
       "  <tbody>\n",
       "    <tr>\n",
       "      <th>1</th>\n",
       "      <td>0.0</td>\n",
       "      <td>0.0</td>\n",
       "      <td>345.0</td>\n",
       "    </tr>\n",
       "    <tr>\n",
       "      <th>2</th>\n",
       "      <td>1.0</td>\n",
       "      <td>87.0</td>\n",
       "      <td>283.0</td>\n",
       "    </tr>\n",
       "    <tr>\n",
       "      <th>3</th>\n",
       "      <td>0.0</td>\n",
       "      <td>0.0</td>\n",
       "      <td>365.0</td>\n",
       "    </tr>\n",
       "    <tr>\n",
       "      <th>4</th>\n",
       "      <td>1.0</td>\n",
       "      <td>121.0</td>\n",
       "      <td>174.0</td>\n",
       "    </tr>\n",
       "    <tr>\n",
       "      <th>5</th>\n",
       "      <td>4.0</td>\n",
       "      <td>147.0</td>\n",
       "      <td>327.0</td>\n",
       "    </tr>\n",
       "    <tr>\n",
       "      <th>...</th>\n",
       "      <td>...</td>\n",
       "      <td>...</td>\n",
       "      <td>...</td>\n",
       "    </tr>\n",
       "    <tr>\n",
       "      <th>22621</th>\n",
       "      <td>0.0</td>\n",
       "      <td>0.0</td>\n",
       "      <td>22.0</td>\n",
       "    </tr>\n",
       "    <tr>\n",
       "      <th>22622</th>\n",
       "      <td>0.0</td>\n",
       "      <td>0.0</td>\n",
       "      <td>16.0</td>\n",
       "    </tr>\n",
       "    <tr>\n",
       "      <th>22623</th>\n",
       "      <td>0.0</td>\n",
       "      <td>0.0</td>\n",
       "      <td>11.0</td>\n",
       "    </tr>\n",
       "    <tr>\n",
       "      <th>22624</th>\n",
       "      <td>0.0</td>\n",
       "      <td>0.0</td>\n",
       "      <td>30.0</td>\n",
       "    </tr>\n",
       "    <tr>\n",
       "      <th>22625</th>\n",
       "      <td>3.0</td>\n",
       "      <td>29.0</td>\n",
       "      <td>30.0</td>\n",
       "    </tr>\n",
       "  </tbody>\n",
       "</table>\n",
       "<p>22625 rows × 3 columns</p>\n",
       "</div>"
      ],
      "text/plain": [
       "             frequency  recency      T\n",
       "Customer_ID                           \n",
       "1                  0.0      0.0  345.0\n",
       "2                  1.0     87.0  283.0\n",
       "3                  0.0      0.0  365.0\n",
       "4                  1.0    121.0  174.0\n",
       "5                  4.0    147.0  327.0\n",
       "...                ...      ...    ...\n",
       "22621              0.0      0.0   22.0\n",
       "22622              0.0      0.0   16.0\n",
       "22623              0.0      0.0   11.0\n",
       "22624              0.0      0.0   30.0\n",
       "22625              3.0     29.0   30.0\n",
       "\n",
       "[22625 rows x 3 columns]"
      ]
     },
     "execution_count": 34,
     "metadata": {},
     "output_type": "execute_result"
    }
   ],
   "source": [
    "from lifetimes.utils import summary_data_from_transaction_data\n",
    "summary = summary_data_from_transaction_data(scan,\n",
    "                                             customer_id_col = 'Customer_ID',\n",
    "                                             datetime_col = 'Date',\n",
    "                                             observation_period_end='2017-01-01')\n",
    "\n",
    "summary"
   ]
  },
  {
   "cell_type": "code",
   "execution_count": 35,
   "metadata": {},
   "outputs": [
    {
     "data": {
      "text/html": [
       "<div>\n",
       "<style scoped>\n",
       "    .dataframe tbody tr th:only-of-type {\n",
       "        vertical-align: middle;\n",
       "    }\n",
       "\n",
       "    .dataframe tbody tr th {\n",
       "        vertical-align: top;\n",
       "    }\n",
       "\n",
       "    .dataframe thead th {\n",
       "        text-align: right;\n",
       "    }\n",
       "</style>\n",
       "<table border=\"1\" class=\"dataframe\">\n",
       "  <thead>\n",
       "    <tr style=\"text-align: right;\">\n",
       "      <th></th>\n",
       "      <th>recency</th>\n",
       "      <th>frequency</th>\n",
       "      <th>senior</th>\n",
       "    </tr>\n",
       "    <tr>\n",
       "      <th>Customer_ID</th>\n",
       "      <th></th>\n",
       "      <th></th>\n",
       "      <th></th>\n",
       "    </tr>\n",
       "  </thead>\n",
       "  <tbody>\n",
       "    <tr>\n",
       "      <th>1</th>\n",
       "      <td>345</td>\n",
       "      <td>2</td>\n",
       "      <td>345</td>\n",
       "    </tr>\n",
       "    <tr>\n",
       "      <th>2</th>\n",
       "      <td>196</td>\n",
       "      <td>2</td>\n",
       "      <td>283</td>\n",
       "    </tr>\n",
       "    <tr>\n",
       "      <th>3</th>\n",
       "      <td>365</td>\n",
       "      <td>3</td>\n",
       "      <td>365</td>\n",
       "    </tr>\n",
       "    <tr>\n",
       "      <th>4</th>\n",
       "      <td>53</td>\n",
       "      <td>5</td>\n",
       "      <td>174</td>\n",
       "    </tr>\n",
       "    <tr>\n",
       "      <th>5</th>\n",
       "      <td>180</td>\n",
       "      <td>5</td>\n",
       "      <td>327</td>\n",
       "    </tr>\n",
       "    <tr>\n",
       "      <th>...</th>\n",
       "      <td>...</td>\n",
       "      <td>...</td>\n",
       "      <td>...</td>\n",
       "    </tr>\n",
       "    <tr>\n",
       "      <th>22621</th>\n",
       "      <td>22</td>\n",
       "      <td>2</td>\n",
       "      <td>22</td>\n",
       "    </tr>\n",
       "    <tr>\n",
       "      <th>22622</th>\n",
       "      <td>16</td>\n",
       "      <td>1</td>\n",
       "      <td>16</td>\n",
       "    </tr>\n",
       "    <tr>\n",
       "      <th>22623</th>\n",
       "      <td>11</td>\n",
       "      <td>2</td>\n",
       "      <td>11</td>\n",
       "    </tr>\n",
       "    <tr>\n",
       "      <th>22624</th>\n",
       "      <td>30</td>\n",
       "      <td>2</td>\n",
       "      <td>30</td>\n",
       "    </tr>\n",
       "    <tr>\n",
       "      <th>22625</th>\n",
       "      <td>1</td>\n",
       "      <td>9</td>\n",
       "      <td>30</td>\n",
       "    </tr>\n",
       "  </tbody>\n",
       "</table>\n",
       "<p>22625 rows × 3 columns</p>\n",
       "</div>"
      ],
      "text/plain": [
       "             recency  frequency  senior\n",
       "Customer_ID                            \n",
       "1                345          2     345\n",
       "2                196          2     283\n",
       "3                365          3     365\n",
       "4                 53          5     174\n",
       "5                180          5     327\n",
       "...              ...        ...     ...\n",
       "22621             22          2      22\n",
       "22622             16          1      16\n",
       "22623             11          2      11\n",
       "22624             30          2      30\n",
       "22625              1          9      30\n",
       "\n",
       "[22625 rows x 3 columns]"
      ]
     },
     "execution_count": 35,
     "metadata": {},
     "output_type": "execute_result"
    }
   ],
   "source": [
    "rfm[['recency','frequency','senior']]"
   ]
  },
  {
   "cell_type": "markdown",
   "metadata": {},
   "source": [
    "## 建立BG/NBD模型"
   ]
  },
  {
   "cell_type": "code",
   "execution_count": 36,
   "metadata": {},
   "outputs": [
    {
     "data": {
      "text/html": [
       "<div>\n",
       "<style scoped>\n",
       "    .dataframe tbody tr th:only-of-type {\n",
       "        vertical-align: middle;\n",
       "    }\n",
       "\n",
       "    .dataframe tbody tr th {\n",
       "        vertical-align: top;\n",
       "    }\n",
       "\n",
       "    .dataframe thead th {\n",
       "        text-align: right;\n",
       "    }\n",
       "</style>\n",
       "<table border=\"1\" class=\"dataframe\">\n",
       "  <thead>\n",
       "    <tr style=\"text-align: right;\">\n",
       "      <th></th>\n",
       "      <th>coef</th>\n",
       "      <th>se(coef)</th>\n",
       "      <th>lower 95% bound</th>\n",
       "      <th>upper 95% bound</th>\n",
       "    </tr>\n",
       "  </thead>\n",
       "  <tbody>\n",
       "    <tr>\n",
       "      <th>r</th>\n",
       "      <td>0.314911</td>\n",
       "      <td>0.004537</td>\n",
       "      <td>0.306019</td>\n",
       "      <td>0.323803</td>\n",
       "    </tr>\n",
       "    <tr>\n",
       "      <th>alpha</th>\n",
       "      <td>22.748491</td>\n",
       "      <td>0.494992</td>\n",
       "      <td>21.778307</td>\n",
       "      <td>23.718676</td>\n",
       "    </tr>\n",
       "    <tr>\n",
       "      <th>a</th>\n",
       "      <td>0.653181</td>\n",
       "      <td>0.033011</td>\n",
       "      <td>0.588480</td>\n",
       "      <td>0.717882</td>\n",
       "    </tr>\n",
       "    <tr>\n",
       "      <th>b</th>\n",
       "      <td>2.584626</td>\n",
       "      <td>0.175370</td>\n",
       "      <td>2.240902</td>\n",
       "      <td>2.928351</td>\n",
       "    </tr>\n",
       "  </tbody>\n",
       "</table>\n",
       "</div>"
      ],
      "text/plain": [
       "            coef  se(coef)  lower 95% bound  upper 95% bound\n",
       "r       0.314911  0.004537         0.306019         0.323803\n",
       "alpha  22.748491  0.494992        21.778307        23.718676\n",
       "a       0.653181  0.033011         0.588480         0.717882\n",
       "b       2.584626  0.175370         2.240902         2.928351"
      ]
     },
     "execution_count": 36,
     "metadata": {},
     "output_type": "execute_result"
    }
   ],
   "source": [
    "from lifetimes import BetaGeoFitter\n",
    "\n",
    "bgf = BetaGeoFitter() # 演算法\n",
    "bgf.fit(summary['frequency'], summary['recency'], summary['T']) # 餵入RF和senior的資料到模型\n",
    "bgf.summary # 查看模型參數"
   ]
  },
  {
   "cell_type": "code",
   "execution_count": 37,
   "metadata": {},
   "outputs": [
    {
     "data": {
      "text/plain": [
       "<AxesSubplot:title={'center':'Expected Number of Future Purchases for 1 Unit of Time,\\nby Frequency and Recency of a Customer'}, xlabel=\"Customer's Historical Frequency\", ylabel=\"Customer's Recency\">"
      ]
     },
     "execution_count": 37,
     "metadata": {},
     "output_type": "execute_result"
    },
    {
     "data": {
      "image/png": "[encoded data removed]",
      "text/plain": [
       "<Figure size 432x288 with 2 Axes>"
      ]
     },
     "metadata": {
      "needs_background": "light"
     },
     "output_type": "display_data"
    }
   ],
   "source": [
    "from lifetimes.plotting import plot_frequency_recency_matrix\n",
    "\n",
    "plot_frequency_recency_matrix(bgf) "
   ]
  },
  {
   "cell_type": "markdown",
   "metadata": {},
   "source": [
    "- 如果某個顧客購買了70次以上，並且最近一次購買是在350天以內，他就是我們的最佳顧客(右下角)"
   ]
  },
  {
   "cell_type": "markdown",
   "metadata": {},
   "source": [
    "## 顧客活躍的機率圖"
   ]
  },
  {
   "cell_type": "code",
   "execution_count": 38,
   "metadata": {},
   "outputs": [
    {
     "data": {
      "text/plain": [
       "<AxesSubplot:title={'center':'Probability Customer is Alive,\\nby Frequency and Recency of a Customer'}, xlabel=\"Customer's Historical Frequency\", ylabel=\"Customer's Recency\">"
      ]
     },
     "execution_count": 38,
     "metadata": {},
     "output_type": "execute_result"
    },
    {
     "data": {
      "image/png": "[encoded data removed]",
      "text/plain": [
       "<Figure size 432x288 with 2 Axes>"
      ]
     },
     "metadata": {
      "needs_background": "light"
     },
     "output_type": "display_data"
    }
   ],
   "source": [
    "from lifetimes.plotting import plot_probability_alive_matrix\n",
    "\n",
    "plot_probability_alive_matrix(bgf)"
   ]
  },
  {
   "cell_type": "markdown",
   "metadata": {},
   "source": [
    "#### 預估在未來任意時間段內的預期購買次數"
   ]
  },
  {
   "cell_type": "code",
   "execution_count": 41,
   "metadata": {},
   "outputs": [
    {
     "data": {
      "text/html": [
       "<div>\n",
       "<style scoped>\n",
       "    .dataframe tbody tr th:only-of-type {\n",
       "        vertical-align: middle;\n",
       "    }\n",
       "\n",
       "    .dataframe tbody tr th {\n",
       "        vertical-align: top;\n",
       "    }\n",
       "\n",
       "    .dataframe thead th {\n",
       "        text-align: right;\n",
       "    }\n",
       "</style>\n",
       "<table border=\"1\" class=\"dataframe\">\n",
       "  <thead>\n",
       "    <tr style=\"text-align: right;\">\n",
       "      <th></th>\n",
       "      <th>frequency</th>\n",
       "      <th>recency</th>\n",
       "      <th>T</th>\n",
       "      <th>predicted_purchases</th>\n",
       "    </tr>\n",
       "    <tr>\n",
       "      <th>Customer_ID</th>\n",
       "      <th></th>\n",
       "      <th></th>\n",
       "      <th></th>\n",
       "      <th></th>\n",
       "    </tr>\n",
       "  </thead>\n",
       "  <tbody>\n",
       "    <tr>\n",
       "      <th>2186</th>\n",
       "      <td>54.0</td>\n",
       "      <td>211.0</td>\n",
       "      <td>213.0</td>\n",
       "      <td>59.399733</td>\n",
       "    </tr>\n",
       "    <tr>\n",
       "      <th>1660</th>\n",
       "      <td>76.0</td>\n",
       "      <td>363.0</td>\n",
       "      <td>364.0</td>\n",
       "      <td>56.715850</td>\n",
       "    </tr>\n",
       "    <tr>\n",
       "      <th>1665</th>\n",
       "      <td>71.0</td>\n",
       "      <td>357.0</td>\n",
       "      <td>360.0</td>\n",
       "      <td>53.179774</td>\n",
       "    </tr>\n",
       "    <tr>\n",
       "      <th>1710</th>\n",
       "      <td>71.0</td>\n",
       "      <td>359.0</td>\n",
       "      <td>362.0</td>\n",
       "      <td>52.955386</td>\n",
       "    </tr>\n",
       "    <tr>\n",
       "      <th>15685</th>\n",
       "      <td>58.0</td>\n",
       "      <td>273.0</td>\n",
       "      <td>284.0</td>\n",
       "      <td>48.412306</td>\n",
       "    </tr>\n",
       "  </tbody>\n",
       "</table>\n",
       "</div>"
      ],
      "text/plain": [
       "             frequency  recency      T  predicted_purchases\n",
       "Customer_ID                                                \n",
       "2186              54.0    211.0  213.0            59.399733\n",
       "1660              76.0    363.0  364.0            56.715850\n",
       "1665              71.0    357.0  360.0            53.179774\n",
       "1710              71.0    359.0  362.0            52.955386\n",
       "15685             58.0    273.0  284.0            48.412306"
      ]
     },
     "execution_count": 41,
     "metadata": {},
     "output_type": "execute_result"
    }
   ],
   "source": [
    "# 找出5個預估消費次數最多的顧客\n",
    "t = 365 # 選定要預測的時間範圍(天)\n",
    "summary['predicted_purchases'] = bgf.conditional_expected_number_of_purchases_up_to_time(t, summary['frequency'], summary['recency'], summary['T'])\n",
    "summary.sort_values(by='predicted_purchases', ascending=False).head(5)"
   ]
  },
  {
   "cell_type": "markdown",
   "metadata": {},
   "source": [
    "Customer_ID = 2186,1660,1665,1710,15685是我們重要的顧客，下一年的預期購買次數介於48至60次"
   ]
  },
  {
   "cell_type": "markdown",
   "metadata": {},
   "source": [
    "#### Q: 請預測 Customer_ID = 428 接下來這一年預期購買次數（一年以365天當作參考）"
   ]
  },
  {
   "cell_type": "code",
   "execution_count": 40,
   "metadata": {},
   "outputs": [
    {
     "data": {
      "text/plain": [
       "predicted_purchases    0.268327\n",
       "Name: 428, dtype: float64"
      ]
     },
     "execution_count": 40,
     "metadata": {},
     "output_type": "execute_result"
    }
   ],
   "source": [
    "summary.loc[428,['predicted_purchases']]"
   ]
  },
  {
   "cell_type": "markdown",
   "metadata": {},
   "source": [
    "看來Customer_ID = 428的顧客不是很活躍，下一年的預期購買次數不到0.5"
   ]
  },
  {
   "cell_type": "markdown",
   "metadata": {},
   "source": [
    "## GammaGamma模型\n",
    "重要的假設：貨幣價值與購買頻率之間沒有關係 -> 使用前，先檢查兩個變數之間的相關性是否接近0才能使用此模型。"
   ]
  },
  {
   "cell_type": "code",
   "execution_count": 43,
   "metadata": {},
   "outputs": [
    {
     "data": {
      "text/html": [
       "<div>\n",
       "<style scoped>\n",
       "    .dataframe tbody tr th:only-of-type {\n",
       "        vertical-align: middle;\n",
       "    }\n",
       "\n",
       "    .dataframe tbody tr th {\n",
       "        vertical-align: top;\n",
       "    }\n",
       "\n",
       "    .dataframe thead th {\n",
       "        text-align: right;\n",
       "    }\n",
       "</style>\n",
       "<table border=\"1\" class=\"dataframe\">\n",
       "  <thead>\n",
       "    <tr style=\"text-align: right;\">\n",
       "      <th></th>\n",
       "      <th>monetary</th>\n",
       "      <th>frequency</th>\n",
       "    </tr>\n",
       "  </thead>\n",
       "  <tbody>\n",
       "    <tr>\n",
       "      <th>monetary</th>\n",
       "      <td>1.000000</td>\n",
       "      <td>0.037467</td>\n",
       "    </tr>\n",
       "    <tr>\n",
       "      <th>frequency</th>\n",
       "      <td>0.037467</td>\n",
       "      <td>1.000000</td>\n",
       "    </tr>\n",
       "  </tbody>\n",
       "</table>\n",
       "</div>"
      ],
      "text/plain": [
       "           monetary  frequency\n",
       "monetary   1.000000   0.037467\n",
       "frequency  0.037467   1.000000"
      ]
     },
     "execution_count": 43,
     "metadata": {},
     "output_type": "execute_result"
    }
   ],
   "source": [
    "rfm[['monetary', 'frequency']].corr()"
   ]
  },
  {
   "cell_type": "markdown",
   "metadata": {},
   "source": [
    "monetary跟frequency的相關很小，可以用Gamma模型！"
   ]
  },
  {
   "cell_type": "markdown",
   "metadata": {},
   "source": [
    "#### Q: 所有顧客平均預期獲利"
   ]
  },
  {
   "cell_type": "code",
   "execution_count": 46,
   "metadata": {},
   "outputs": [
    {
     "data": {
      "text/plain": [
       "Customer_ID\n",
       "1         8.989463\n",
       "2        11.229779\n",
       "3         5.300407\n",
       "4         7.297740\n",
       "5        15.024579\n",
       "           ...    \n",
       "22621     6.707659\n",
       "22622     8.339228\n",
       "22623    47.614173\n",
       "22624    10.133822\n",
       "22625     9.434627\n",
       "Length: 22625, dtype: float64"
      ]
     },
     "execution_count": 46,
     "metadata": {},
     "output_type": "execute_result"
    }
   ],
   "source": [
    "from lifetimes import GammaGammaFitter\n",
    "\n",
    "retain = rfm[rfm['frequency'] > 0]\n",
    "ggf = GammaGammaFitter()\n",
    "ggf.fit(retain['frequency'], retain['monetary'])\n",
    "profit = ggf.conditional_expected_average_profit(rfm['frequency'], rfm['monetary'])\n",
    "profit"
   ]
  },
  {
   "cell_type": "code",
   "execution_count": 45,
   "metadata": {},
   "outputs": [
    {
     "name": "stdout",
     "output_type": "stream",
     "text": [
      "Average profit: 11.143579906081962\n"
     ]
    }
   ],
   "source": [
    "print(\"Average profit: %s\" % (rfm[rfm['frequency']>0]['monetary'].mean()) )"
   ]
  },
  {
   "cell_type": "markdown",
   "metadata": {},
   "source": [
    "#### Q: 透過GammaGammaFitter計算個別顧客預期獲利，請問 Customer_ID = 3596為"
   ]
  },
  {
   "cell_type": "code",
   "execution_count": 49,
   "metadata": {},
   "outputs": [
    {
     "name": "stdout",
     "output_type": "stream",
     "text": [
      "Customer_ID = 3596 預期獲利: 10.137279237743742\n"
     ]
    }
   ],
   "source": [
    "print(\"Customer_ID = 3596 預期獲利: %s\" % (profit[3596]))"
   ]
  },
  {
   "cell_type": "markdown",
   "metadata": {},
   "source": [
    "### 計算顧客CLV\n",
    "使用財務中DCF(Discounted Cash Flow)分析法來計算CLV，需要有未來值(由BGF模型得到)和評估值(以GGF模型評估)。"
   ]
  },
  {
   "cell_type": "code",
   "execution_count": 52,
   "metadata": {},
   "outputs": [
    {
     "data": {
      "text/plain": [
       "Customer_ID\n",
       "16253    3453.717627\n",
       "12918    2373.174771\n",
       "14287    1451.962591\n",
       "1395     1270.652699\n",
       "10396    1228.904587\n",
       "Name: clv, dtype: float64"
      ]
     },
     "execution_count": 52,
     "metadata": {},
     "output_type": "execute_result"
    }
   ],
   "source": [
    "# 找出顧客終身價值最高的5個顧客\n",
    "bgf = BetaGeoFitter(penalizer_coef = 0.001).fit(rfm['frequency'], rfm['recency'], rfm['senior'])\n",
    "\n",
    "clv = ggf.customer_lifetime_value(\n",
    "    bgf,\n",
    "    rfm['frequency'],\n",
    "    rfm['recency'],\n",
    "    rfm['senior'],\n",
    "    rfm['monetary'],\n",
    "    time=12, # 月份\n",
    "    discount_rate=0.01 # 每月調整後的折現率(默認0.01)\n",
    ")\n",
    "\n",
    "clv.sort_values(ascending=False).head()"
   ]
  }
 ],
 "metadata": {
  "colab": {
   "name": "ch4.ipynb",
   "provenance": [],
   "toc_visible": true
  },
  "kernelspec": {
   "display_name": "Python 3 (ipykernel)",
   "language": "python",
   "name": "python3"
  },
  "language_info": {
   "codemirror_mode": {
    "name": "ipython",
    "version": 3
   },
   "file_extension": ".py",
   "mimetype": "text/x-python",
   "name": "python",
   "nbconvert_exporter": "python",
   "pygments_lexer": "ipython3",
   "version": "3.9.7"
  },
  "metadata": {
   "interpreter": {
    "hash": "31f2aee4e71d21fbe5cf8b01ff0e069b9275f58929596ceb00d14d90e3e16cd6"
   }
  }
 },
 "nbformat": 4,
 "nbformat_minor": 2
}
